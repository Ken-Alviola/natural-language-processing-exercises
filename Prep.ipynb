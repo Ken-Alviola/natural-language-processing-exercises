{
 "cells": [
  {
   "cell_type": "code",
   "execution_count": 2,
   "metadata": {
    "ExecuteTime": {
     "end_time": "2021-05-04T17:10:19.537940Z",
     "start_time": "2021-05-04T17:10:19.520249Z"
    }
   },
   "outputs": [],
   "source": [
    "import unicodedata\n",
    "import re\n",
    "import json\n",
    "\n",
    "import nltk\n",
    "from nltk.tokenize.toktok import ToktokTokenizer\n",
    "from nltk.corpus import stopwords\n",
    "\n",
    "import pandas as pd\n",
    "from acquire import get_blog_articles, get_news_articles"
   ]
  },
  {
   "cell_type": "markdown",
   "metadata": {},
   "source": [
    "( ͡° ͜ʖ ͡°)\n",
    "\n",
    "The end result of this exercise should be a file named prepare.py that defines the requested functions.\n",
    "\n",
    "In this exercise we will be defining some functions to prepare textual data. These functions should apply equally well to both the codeup blog articles and the news articles that were previously acquired.\n",
    "\n",
    "# 1. Define a function named basic_clean. It should take in a string and apply some basic text cleaning to it:\n",
    "\n",
    "- Lowercase everything\n",
    "- Normalize unicode characters\n",
    "- Replace anything that is not a letter, number, whitespace or a single quote."
   ]
  },
  {
   "cell_type": "code",
   "execution_count": 3,
   "metadata": {
    "ExecuteTime": {
     "end_time": "2021-05-04T18:40:51.891837Z",
     "start_time": "2021-05-04T18:40:51.508049Z"
    }
   },
   "outputs": [
    {
     "name": "stderr",
     "output_type": "stream",
     "text": [
      "/Users/ken/codeup-data-science/natural-language-processing-exercises/acquire.py:15: GuessedAtParserWarning: No parser was explicitly specified, so I'm using the best available HTML parser for this system (\"lxml\"). This usually isn't a problem, but if you run this code on another system, or in a different virtual environment, it may use a different parser and behave differently.\n",
      "\n",
      "The code that caused this warning is on line 15 of the file /Users/ken/codeup-data-science/natural-language-processing-exercises/acquire.py. To get rid of this warning, pass the additional argument 'features=\"lxml\"' to the BeautifulSoup constructor.\n",
      "\n",
      "  soup = BeautifulSoup(response.text)\n"
     ]
    },
    {
     "data": {
      "text/plain": [
       "[{'title': 'Data Science Myths',\n",
       "  'content': 'By Dimitri Antoniou and Maggie Giust Data Science, Big Data, Machine Learning, NLP, Neural Networks…these buzzwords have rapidly spread into mainstream use over the last few years. Unfortunately, definitions are varied and sources of truth are limited. Data Scientists are in fact not magical unicorn wizards who can snap their fingers and turn a business around! Today, we’ll take a cue from our favorite Mythbusters to tackle some common myths and misconceptions in the field of Data Science. \\xa0 Myth #1: Data Science = Statistics At first glance, this one doesn’t sound unreasonable. Statistics is defined as, “A branch of mathematics dealing with the collection, analysis, interpretation, and presentation of masses of numerical data.” That sounds a lot like our definition of Data Science: a method of drawing actionable intelligence from data.  In truth, statistics is actually one small piece of Data Science. As our Senior Data Scientist puts it, “Statistics forces us to make assumptions about the nature of the relationship between variables, the distribution of the data, etc.” In the traditional Data Science venn diagram, you’ll see that math/stats make up ⅓ of a working professional. These are tools and skills to leverage, but data science itself is about drawing intelligence from data. BUSTED\\n via GIPHY \\xa0 Myth #2: Data Scientist = Business/Data Analyst This one is so common that we wrote a whole post about it! These are separate and different roles within the data field. While a data scientist will often do analytics, their spectrum of work is wider. A data analyst will use structured data to create dashboards and KPIs, while a Data Scientist deals with unstructured and messy data for a range of outputs. If they’re interested, business analysts will often progress to data scientists. BUSTED  via GIPHY \\xa0 Myth #3: Data Science = Data Science This one’s tricky, because it’s impossible to either confirm or bust! The ‘myth’ is that one person or company using the term Data Science is not necessarily the same as another person or company using the same term. Depending on organizational capacity, individual experience, educational background, and many other variables, we might be using the same name for different animals. Tl;dr: don’t assume a common understanding across hiring managers, recruiters, and practitioners. Look instead for specifics of tools, techniques, methodologies, and outputs. That being said, this one falls in the “plausible” category, because it may actually be true in some circumstances, while false in others. PLAUSIBLE  via GIPHY \\xa0 Myth #4: Data Science curricula are well-defined and consistent. We recommend checking this one out for yourself! A quick google search for bootcamps, master’s degree programs, and online courses will reveal that different organizations teach different things. There is no commonly accepted framework for teaching data science! Some focus more on the engineering, others focus more on machine learning, some think deep learning is foundational, and some prefer to use R.  Our curriculum was built through employer interviews, practitioner interviews, market research, and company partnerships. But we’re based in Texas! A bootcamp in New York might follow the same process and end up with a different syllabus. Keep in mind, whatever your learning path, that there will be gaps in your learning. The most important thing is to recognize those gaps. BUSTED  via GIPHY \\xa0 Myth #5: If I want to be a data scientist, I just need to learn Python or R. This one is common and dangerous! Just like statistics, programming languages like Python and R are tools. They’re just pieces of a larger puzzle! Knowing Python without understanding the data science pipeline is like knowing how to build a floor without having a floor plan. Of course, these are valuable technical skills that give you a leg up, but they’re second in importance to asking the right questions, knowing what tools to use when, and communicating your findings. BUSTED  via GIPHY Still have questions? Reach out to us! We’re always here to help.'}]"
      ]
     },
     "execution_count": 3,
     "metadata": {},
     "output_type": "execute_result"
    }
   ],
   "source": [
    "blog = get_blog_articles(['https://codeup.com/data-science-myths/'])\n",
    "blog"
   ]
  },
  {
   "cell_type": "code",
   "execution_count": 7,
   "metadata": {
    "ExecuteTime": {
     "end_time": "2021-05-04T18:42:22.368577Z",
     "start_time": "2021-05-04T18:42:22.355471Z"
    },
    "scrolled": true
   },
   "outputs": [
    {
     "data": {
      "text/plain": [
       "'By Dimitri Antoniou and Maggie Giust Data Science, Big Data, Machine Learning, NLP, Neural Networks…these buzzwords have rapidly spread into mainstream use over the last few years. Unfortunately, definitions are varied and sources of truth are limited. Data Scientists are in fact not magical unicorn wizards who can snap their fingers and turn a business around! Today, we’ll take a cue from our favorite Mythbusters to tackle some common myths and misconceptions in the field of Data Science. \\xa0 Myth #1: Data Science = Statistics At first glance, this one doesn’t sound unreasonable. Statistics is defined as, “A branch of mathematics dealing with the collection, analysis, interpretation, and presentation of masses of numerical data.” That sounds a lot like our definition of Data Science: a method of drawing actionable intelligence from data.  In truth, statistics is actually one small piece of Data Science. As our Senior Data Scientist puts it, “Statistics forces us to make assumptions about the nature of the relationship between variables, the distribution of the data, etc.” In the traditional Data Science venn diagram, you’ll see that math/stats make up ⅓ of a working professional. These are tools and skills to leverage, but data science itself is about drawing intelligence from data. BUSTED\\n via GIPHY \\xa0 Myth #2: Data Scientist = Business/Data Analyst This one is so common that we wrote a whole post about it! These are separate and different roles within the data field. While a data scientist will often do analytics, their spectrum of work is wider. A data analyst will use structured data to create dashboards and KPIs, while a Data Scientist deals with unstructured and messy data for a range of outputs. If they’re interested, business analysts will often progress to data scientists. BUSTED  via GIPHY \\xa0 Myth #3: Data Science = Data Science This one’s tricky, because it’s impossible to either confirm or bust! The ‘myth’ is that one person or company using the term Data Science is not necessarily the same as another person or company using the same term. Depending on organizational capacity, individual experience, educational background, and many other variables, we might be using the same name for different animals. Tl;dr: don’t assume a common understanding across hiring managers, recruiters, and practitioners. Look instead for specifics of tools, techniques, methodologies, and outputs. That being said, this one falls in the “plausible” category, because it may actually be true in some circumstances, while false in others. PLAUSIBLE  via GIPHY \\xa0 Myth #4: Data Science curricula are well-defined and consistent. We recommend checking this one out for yourself! A quick google search for bootcamps, master’s degree programs, and online courses will reveal that different organizations teach different things. There is no commonly accepted framework for teaching data science! Some focus more on the engineering, others focus more on machine learning, some think deep learning is foundational, and some prefer to use R.  Our curriculum was built through employer interviews, practitioner interviews, market research, and company partnerships. But we’re based in Texas! A bootcamp in New York might follow the same process and end up with a different syllabus. Keep in mind, whatever your learning path, that there will be gaps in your learning. The most important thing is to recognize those gaps. BUSTED  via GIPHY \\xa0 Myth #5: If I want to be a data scientist, I just need to learn Python or R. This one is common and dangerous! Just like statistics, programming languages like Python and R are tools. They’re just pieces of a larger puzzle! Knowing Python without understanding the data science pipeline is like knowing how to build a floor without having a floor plan. Of course, these are valuable technical skills that give you a leg up, but they’re second in importance to asking the right questions, knowing what tools to use when, and communicating your findings. BUSTED  via GIPHY Still have questions? Reach out to us! We’re always here to help.'"
      ]
     },
     "execution_count": 7,
     "metadata": {},
     "output_type": "execute_result"
    }
   ],
   "source": [
    "content = blog[0]['content']\n",
    "content"
   ]
  },
  {
   "cell_type": "code",
   "execution_count": 10,
   "metadata": {
    "ExecuteTime": {
     "end_time": "2021-05-04T18:48:36.437296Z",
     "start_time": "2021-05-04T18:48:36.432346Z"
    }
   },
   "outputs": [],
   "source": [
    "def basic_clean(text):\n",
    "    text = text.lower()\n",
    "    text = unicodedata.normalize('NFKD', text).encode('ascii','ignore').decode('utf-8','ignore')\n",
    "    text = re.sub(r\"[^a-z0-9'\\s]\",'',text)\n",
    "    return text\n",
    "    "
   ]
  },
  {
   "cell_type": "code",
   "execution_count": 11,
   "metadata": {
    "ExecuteTime": {
     "end_time": "2021-05-04T18:48:37.696496Z",
     "start_time": "2021-05-04T18:48:37.687596Z"
    }
   },
   "outputs": [
    {
     "data": {
      "text/plain": [
       "'by dimitri antoniou and maggie giust data science big data machine learning nlp neural networksthese buzzwords have rapidly spread into mainstream use over the last few years unfortunately definitions are varied and sources of truth are limited data scientists are in fact not magical unicorn wizards who can snap their fingers and turn a business around today well take a cue from our favorite mythbusters to tackle some common myths and misconceptions in the field of data science   myth 1 data science  statistics at first glance this one doesnt sound unreasonable statistics is defined as a branch of mathematics dealing with the collection analysis interpretation and presentation of masses of numerical data that sounds a lot like our definition of data science a method of drawing actionable intelligence from data  in truth statistics is actually one small piece of data science as our senior data scientist puts it statistics forces us to make assumptions about the nature of the relationship between variables the distribution of the data etc in the traditional data science venn diagram youll see that mathstats make up 13 of a working professional these are tools and skills to leverage but data science itself is about drawing intelligence from data busted\\n via giphy   myth 2 data scientist  businessdata analyst this one is so common that we wrote a whole post about it these are separate and different roles within the data field while a data scientist will often do analytics their spectrum of work is wider a data analyst will use structured data to create dashboards and kpis while a data scientist deals with unstructured and messy data for a range of outputs if theyre interested business analysts will often progress to data scientists busted  via giphy   myth 3 data science  data science this ones tricky because its impossible to either confirm or bust the myth is that one person or company using the term data science is not necessarily the same as another person or company using the same term depending on organizational capacity individual experience educational background and many other variables we might be using the same name for different animals tldr dont assume a common understanding across hiring managers recruiters and practitioners look instead for specifics of tools techniques methodologies and outputs that being said this one falls in the plausible category because it may actually be true in some circumstances while false in others plausible  via giphy   myth 4 data science curricula are welldefined and consistent we recommend checking this one out for yourself a quick google search for bootcamps masters degree programs and online courses will reveal that different organizations teach different things there is no commonly accepted framework for teaching data science some focus more on the engineering others focus more on machine learning some think deep learning is foundational and some prefer to use r  our curriculum was built through employer interviews practitioner interviews market research and company partnerships but were based in texas a bootcamp in new york might follow the same process and end up with a different syllabus keep in mind whatever your learning path that there will be gaps in your learning the most important thing is to recognize those gaps busted  via giphy   myth 5 if i want to be a data scientist i just need to learn python or r this one is common and dangerous just like statistics programming languages like python and r are tools theyre just pieces of a larger puzzle knowing python without understanding the data science pipeline is like knowing how to build a floor without having a floor plan of course these are valuable technical skills that give you a leg up but theyre second in importance to asking the right questions knowing what tools to use when and communicating your findings busted  via giphy still have questions reach out to us were always here to help'"
      ]
     },
     "execution_count": 11,
     "metadata": {},
     "output_type": "execute_result"
    }
   ],
   "source": [
    "basic_clean(content)"
   ]
  },
  {
   "cell_type": "markdown",
   "metadata": {},
   "source": [
    "# 2. Define a function named tokenize. It should take in a string and tokenize all the words in the string."
   ]
  },
  {
   "cell_type": "code",
   "execution_count": 15,
   "metadata": {
    "ExecuteTime": {
     "end_time": "2021-05-04T18:52:06.844271Z",
     "start_time": "2021-05-04T18:52:06.836607Z"
    }
   },
   "outputs": [],
   "source": [
    "def tokenize(text):\n",
    "    tokenizer = nltk.tokenize.ToktokTokenizer()\n",
    "    text = tokenizer.tokenize(text, return_str=True)\n",
    "    return text"
   ]
  },
  {
   "cell_type": "code",
   "execution_count": 16,
   "metadata": {
    "ExecuteTime": {
     "end_time": "2021-05-04T18:52:07.718706Z",
     "start_time": "2021-05-04T18:52:07.712002Z"
    }
   },
   "outputs": [],
   "source": [
    "content = basic_clean(content)"
   ]
  },
  {
   "cell_type": "code",
   "execution_count": 17,
   "metadata": {
    "ExecuteTime": {
     "end_time": "2021-05-04T18:52:08.743276Z",
     "start_time": "2021-05-04T18:52:08.733148Z"
    },
    "scrolled": true
   },
   "outputs": [
    {
     "data": {
      "text/plain": [
       "'by dimitri antoniou and maggie giust data science big data machine learning nlp neural networksthese buzzwords have rapidly spread into mainstream use over the last few years unfortunately definitions are varied and sources of truth are limited data scientists are in fact not magical unicorn wizards who can snap their fingers and turn a business around today well take a cue from our favorite mythbusters to tackle some common myths and misconceptions in the field of data science myth 1 data science statistics at first glance this one doesnt sound unreasonable statistics is defined as a branch of mathematics dealing with the collection analysis interpretation and presentation of masses of numerical data that sounds a lot like our definition of data science a method of drawing actionable intelligence from data in truth statistics is actually one small piece of data science as our senior data scientist puts it statistics forces us to make assumptions about the nature of the relationship between variables the distribution of the data etc in the traditional data science venn diagram youll see that mathstats make up 13 of a working professional these are tools and skills to leverage but data science itself is about drawing intelligence from data busted\\n via giphy myth 2 data scientist businessdata analyst this one is so common that we wrote a whole post about it these are separate and different roles within the data field while a data scientist will often do analytics their spectrum of work is wider a data analyst will use structured data to create dashboards and kpis while a data scientist deals with unstructured and messy data for a range of outputs if theyre interested business analysts will often progress to data scientists busted via giphy myth 3 data science data science this ones tricky because its impossible to either confirm or bust the myth is that one person or company using the term data science is not necessarily the same as another person or company using the same term depending on organizational capacity individual experience educational background and many other variables we might be using the same name for different animals tldr dont assume a common understanding across hiring managers recruiters and practitioners look instead for specifics of tools techniques methodologies and outputs that being said this one falls in the plausible category because it may actually be true in some circumstances while false in others plausible via giphy myth 4 data science curricula are welldefined and consistent we recommend checking this one out for yourself a quick google search for bootcamps masters degree programs and online courses will reveal that different organizations teach different things there is no commonly accepted framework for teaching data science some focus more on the engineering others focus more on machine learning some think deep learning is foundational and some prefer to use r our curriculum was built through employer interviews practitioner interviews market research and company partnerships but were based in texas a bootcamp in new york might follow the same process and end up with a different syllabus keep in mind whatever your learning path that there will be gaps in your learning the most important thing is to recognize those gaps busted via giphy myth 5 if i want to be a data scientist i just need to learn python or r this one is common and dangerous just like statistics programming languages like python and r are tools theyre just pieces of a larger puzzle knowing python without understanding the data science pipeline is like knowing how to build a floor without having a floor plan of course these are valuable technical skills that give you a leg up but theyre second in importance to asking the right questions knowing what tools to use when and communicating your findings busted via giphy still have questions reach out to us were always here to help'"
      ]
     },
     "execution_count": 17,
     "metadata": {},
     "output_type": "execute_result"
    }
   ],
   "source": [
    "content = tokenize(content)\n",
    "content"
   ]
  },
  {
   "cell_type": "markdown",
   "metadata": {},
   "source": [
    "# 3. Define a function named stem. It should accept some text and return the text after applying stemming to all the words."
   ]
  },
  {
   "cell_type": "code",
   "execution_count": 18,
   "metadata": {
    "ExecuteTime": {
     "end_time": "2021-05-04T18:54:12.748630Z",
     "start_time": "2021-05-04T18:54:12.742927Z"
    }
   },
   "outputs": [],
   "source": [
    "def stem(text):\n",
    "    #copy Ravinder's code\n",
    "    ps = nltk.porter.PorterStemmer()\n",
    "    #copy Ravinder's code\n",
    "    stems = [ps.stem(word) for word in text.split()]\n",
    "    #copy Ravinder's code\n",
    "    text_stemmed = ' '.join(stems)\n",
    "    #win\n",
    "    return text_stemmed"
   ]
  },
  {
   "cell_type": "code",
   "execution_count": 19,
   "metadata": {
    "ExecuteTime": {
     "end_time": "2021-05-04T18:54:20.888309Z",
     "start_time": "2021-05-04T18:54:20.854380Z"
    }
   },
   "outputs": [
    {
     "data": {
      "text/plain": [
       "'by dimitri antoni and maggi giust data scienc big data machin learn nlp neural networksthes buzzword have rapidli spread into mainstream use over the last few year unfortun definit are vari and sourc of truth are limit data scientist are in fact not magic unicorn wizard who can snap their finger and turn a busi around today well take a cue from our favorit mythbust to tackl some common myth and misconcept in the field of data scienc myth 1 data scienc statist at first glanc thi one doesnt sound unreason statist is defin as a branch of mathemat deal with the collect analysi interpret and present of mass of numer data that sound a lot like our definit of data scienc a method of draw action intellig from data in truth statist is actual one small piec of data scienc as our senior data scientist put it statist forc us to make assumpt about the natur of the relationship between variabl the distribut of the data etc in the tradit data scienc venn diagram youll see that mathstat make up 13 of a work profession these are tool and skill to leverag but data scienc itself is about draw intellig from data bust via giphi myth 2 data scientist businessdata analyst thi one is so common that we wrote a whole post about it these are separ and differ role within the data field while a data scientist will often do analyt their spectrum of work is wider a data analyst will use structur data to creat dashboard and kpi while a data scientist deal with unstructur and messi data for a rang of output if theyr interest busi analyst will often progress to data scientist bust via giphi myth 3 data scienc data scienc thi one tricki becaus it imposs to either confirm or bust the myth is that one person or compani use the term data scienc is not necessarili the same as anoth person or compani use the same term depend on organiz capac individu experi educ background and mani other variabl we might be use the same name for differ anim tldr dont assum a common understand across hire manag recruit and practition look instead for specif of tool techniqu methodolog and output that be said thi one fall in the plausibl categori becaus it may actual be true in some circumst while fals in other plausibl via giphi myth 4 data scienc curricula are welldefin and consist we recommend check thi one out for yourself a quick googl search for bootcamp master degre program and onlin cours will reveal that differ organ teach differ thing there is no commonli accept framework for teach data scienc some focu more on the engin other focu more on machin learn some think deep learn is foundat and some prefer to use r our curriculum wa built through employ interview practition interview market research and compani partnership but were base in texa a bootcamp in new york might follow the same process and end up with a differ syllabu keep in mind whatev your learn path that there will be gap in your learn the most import thing is to recogn those gap bust via giphi myth 5 if i want to be a data scientist i just need to learn python or r thi one is common and danger just like statist program languag like python and r are tool theyr just piec of a larger puzzl know python without understand the data scienc pipelin is like know how to build a floor without have a floor plan of cours these are valuabl technic skill that give you a leg up but theyr second in import to ask the right question know what tool to use when and commun your find bust via giphi still have question reach out to us were alway here to help'"
      ]
     },
     "execution_count": 19,
     "metadata": {},
     "output_type": "execute_result"
    }
   ],
   "source": [
    "stem(content)"
   ]
  },
  {
   "cell_type": "markdown",
   "metadata": {},
   "source": [
    "# 4. Define a function named lemmatize. It should accept some text and return the text after applying lemmatization to each word."
   ]
  },
  {
   "cell_type": "code",
   "execution_count": 58,
   "metadata": {
    "ExecuteTime": {
     "end_time": "2021-05-04T19:41:24.467614Z",
     "start_time": "2021-05-04T19:41:24.459934Z"
    }
   },
   "outputs": [
    {
     "name": "stderr",
     "output_type": "stream",
     "text": [
      "[nltk_data] Downloading package wordnet to /Users/ken/nltk_data...\n",
      "[nltk_data]   Package wordnet is already up-to-date!\n"
     ]
    }
   ],
   "source": [
    "nltk.download('wordnet')\n",
    "\n",
    "def lemmatize(text):\n",
    "    wnl = nltk.stem.WordNetLemmatizer()\n",
    "    lemmas = [wnl.lemmatize(word) for word in text.split()]\n",
    "    text_lemmatized = ' '.join(lemmas)\n",
    "    return text_lemmatized"
   ]
  },
  {
   "cell_type": "code",
   "execution_count": 21,
   "metadata": {
    "ExecuteTime": {
     "end_time": "2021-05-04T18:57:02.128188Z",
     "start_time": "2021-05-04T18:56:58.310454Z"
    }
   },
   "outputs": [
    {
     "name": "stderr",
     "output_type": "stream",
     "text": [
      "[nltk_data] Downloading package wordnet to /Users/ken/nltk_data...\n",
      "[nltk_data]   Unzipping corpora/wordnet.zip.\n"
     ]
    },
    {
     "data": {
      "text/plain": [
       "'by dimitri antoniou and maggie giust data science big data machine learning nlp neural networksthese buzzword have rapidly spread into mainstream use over the last few year unfortunately definition are varied and source of truth are limited data scientist are in fact not magical unicorn wizard who can snap their finger and turn a business around today well take a cue from our favorite mythbusters to tackle some common myth and misconception in the field of data science myth 1 data science statistic at first glance this one doesnt sound unreasonable statistic is defined a a branch of mathematics dealing with the collection analysis interpretation and presentation of mass of numerical data that sound a lot like our definition of data science a method of drawing actionable intelligence from data in truth statistic is actually one small piece of data science a our senior data scientist put it statistic force u to make assumption about the nature of the relationship between variable the distribution of the data etc in the traditional data science venn diagram youll see that mathstats make up 13 of a working professional these are tool and skill to leverage but data science itself is about drawing intelligence from data busted via giphy myth 2 data scientist businessdata analyst this one is so common that we wrote a whole post about it these are separate and different role within the data field while a data scientist will often do analytics their spectrum of work is wider a data analyst will use structured data to create dashboard and kpis while a data scientist deal with unstructured and messy data for a range of output if theyre interested business analyst will often progress to data scientist busted via giphy myth 3 data science data science this one tricky because it impossible to either confirm or bust the myth is that one person or company using the term data science is not necessarily the same a another person or company using the same term depending on organizational capacity individual experience educational background and many other variable we might be using the same name for different animal tldr dont assume a common understanding across hiring manager recruiter and practitioner look instead for specific of tool technique methodology and output that being said this one fall in the plausible category because it may actually be true in some circumstance while false in others plausible via giphy myth 4 data science curriculum are welldefined and consistent we recommend checking this one out for yourself a quick google search for bootcamps master degree program and online course will reveal that different organization teach different thing there is no commonly accepted framework for teaching data science some focus more on the engineering others focus more on machine learning some think deep learning is foundational and some prefer to use r our curriculum wa built through employer interview practitioner interview market research and company partnership but were based in texas a bootcamp in new york might follow the same process and end up with a different syllabus keep in mind whatever your learning path that there will be gap in your learning the most important thing is to recognize those gap busted via giphy myth 5 if i want to be a data scientist i just need to learn python or r this one is common and dangerous just like statistic programming language like python and r are tool theyre just piece of a larger puzzle knowing python without understanding the data science pipeline is like knowing how to build a floor without having a floor plan of course these are valuable technical skill that give you a leg up but theyre second in importance to asking the right question knowing what tool to use when and communicating your finding busted via giphy still have question reach out to u were always here to help'"
      ]
     },
     "execution_count": 21,
     "metadata": {},
     "output_type": "execute_result"
    }
   ],
   "source": [
    "lemmatize(content)"
   ]
  },
  {
   "cell_type": "markdown",
   "metadata": {},
   "source": [
    "# 5. Define a function named remove_stopwords. It should accept some text and return the text after removing all the stopwords.\n",
    "\n",
    "This function should define two optional parameters, extra_words and exclude_words. These parameters should define any additional stop words to include, and any words that we don't want to remove."
   ]
  },
  {
   "cell_type": "code",
   "execution_count": 30,
   "metadata": {
    "ExecuteTime": {
     "end_time": "2021-05-04T19:07:40.881787Z",
     "start_time": "2021-05-04T19:07:40.755853Z"
    }
   },
   "outputs": [
    {
     "name": "stderr",
     "output_type": "stream",
     "text": [
      "[nltk_data] Downloading package stopwords to /Users/ken/nltk_data...\n",
      "[nltk_data]   Unzipping corpora/stopwords.zip.\n"
     ]
    },
    {
     "data": {
      "text/plain": [
       "True"
      ]
     },
     "execution_count": 30,
     "metadata": {},
     "output_type": "execute_result"
    }
   ],
   "source": [
    "from nltk.corpus import stopwords\n",
    "nltk.download('stopwords')"
   ]
  },
  {
   "cell_type": "code",
   "execution_count": 37,
   "metadata": {
    "ExecuteTime": {
     "end_time": "2021-05-04T19:12:53.144779Z",
     "start_time": "2021-05-04T19:12:53.136130Z"
    }
   },
   "outputs": [],
   "source": [
    "def remove_stopwords(text, extra_words=[], exclude_words=[]):\n",
    "    #nltk.download('stopwords')\n",
    "    stopword_list = stopwords.words('english')\n",
    "    \n",
    "    if len(extra_words) > 0 :\n",
    "        for word in extra_words:\n",
    "            stopword_list.append(word)\n",
    "            \n",
    "    if len(exclude_words) > 0:\n",
    "        for word in exclude_words:\n",
    "            stopword_list.remove(word)\n",
    "            \n",
    "    words = text.split()\n",
    "    filtered_words = [word for word in words if word not in stopword_list]\n",
    "    text_without_stopwords = ' '.join(filtered_words)\n",
    "    \n",
    "    return text_without_stopwords    "
   ]
  },
  {
   "cell_type": "code",
   "execution_count": 32,
   "metadata": {
    "ExecuteTime": {
     "end_time": "2021-05-04T19:08:19.848390Z",
     "start_time": "2021-05-04T19:08:19.834913Z"
    }
   },
   "outputs": [
    {
     "name": "stderr",
     "output_type": "stream",
     "text": [
      "[nltk_data] Downloading package wordnet to /Users/ken/nltk_data...\n",
      "[nltk_data]   Package wordnet is already up-to-date!\n"
     ]
    }
   ],
   "source": [
    "content = lemmatize(content)"
   ]
  },
  {
   "cell_type": "code",
   "execution_count": 33,
   "metadata": {
    "ExecuteTime": {
     "end_time": "2021-05-04T19:08:24.626161Z",
     "start_time": "2021-05-04T19:08:24.614602Z"
    }
   },
   "outputs": [
    {
     "data": {
      "text/plain": [
       "'dimitri antoniou maggie giust data science big data machine learning nlp neural networksthese buzzword rapidly spread mainstream use last year unfortunately definition varied source truth limited data scientist fact magical unicorn wizard snap finger turn business around today well take cue favorite mythbusters tackle common myth misconception field data science myth 1 data science statistic first glance one doesnt sound unreasonable statistic defined branch mathematics dealing collection analysis interpretation presentation mass numerical data sound lot like definition data science method drawing actionable intelligence data truth statistic actually one small piece data science senior data scientist put statistic force u make assumption nature relationship variable distribution data etc traditional data science venn diagram youll see mathstats make 13 working professional tool skill leverage data science drawing intelligence data busted via giphy myth 2 data scientist businessdata analyst one common wrote whole post separate different role within data field data scientist often analytics spectrum work wider data analyst use structured data create dashboard kpis data scientist deal unstructured messy data range output theyre interested business analyst often progress data scientist busted via giphy myth 3 data science data science one tricky impossible either confirm bust myth one person company using term data science necessarily another person company using term depending organizational capacity individual experience educational background many variable might using name different animal tldr dont assume common understanding across hiring manager recruiter practitioner look instead specific tool technique methodology output said one fall plausible category may actually true circumstance false others plausible via giphy myth 4 data science curriculum welldefined consistent recommend checking one quick google search bootcamps master degree program online course reveal different organization teach different thing commonly accepted framework teaching data science focus engineering others focus machine learning think deep learning foundational prefer use r curriculum wa built employer interview practitioner interview market research company partnership based texas bootcamp new york might follow process end different syllabus keep mind whatever learning path gap learning important thing recognize gap busted via giphy myth 5 want data scientist need learn python r one common dangerous like statistic programming language like python r tool theyre piece larger puzzle knowing python without understanding data science pipeline like knowing build floor without floor plan course valuable technical skill give leg theyre second importance asking right question knowing tool use communicating finding busted via giphy still question reach u always help'"
      ]
     },
     "execution_count": 33,
     "metadata": {},
     "output_type": "execute_result"
    }
   ],
   "source": [
    "remove_stopwords(content)"
   ]
  },
  {
   "cell_type": "code",
   "execution_count": 69,
   "metadata": {
    "ExecuteTime": {
     "end_time": "2021-05-04T21:31:38.250303Z",
     "start_time": "2021-05-04T21:31:38.190603Z"
    }
   },
   "outputs": [
    {
     "data": {
      "text/plain": [
       "'antoniou maggie giust data science big data machine learning nlp neural networksthese buzzword rapidly spread mainstream use last year unfortunately definition varied source truth limited data scientist fact magical unicorn wizard snap finger turn business around today well take cue favorite mythbusters tackle common myth misconception field data science myth 1 data science statistic first glance one doesnt sound unreasonable statistic defined branch mathematics dealing collection analysis interpretation presentation mass numerical data sound lot like definition data science method drawing actionable intelligence data truth statistic actually one small piece data science senior data scientist put statistic force u make assumption nature relationship variable distribution data etc traditional data science venn diagram youll see mathstats make 13 working professional tool skill leverage data science drawing intelligence data busted via giphy myth 2 data scientist businessdata analyst one common wrote whole post separate different role within data field data scientist often analytics spectrum work wider data analyst use structured data create dashboard kpis data scientist deal unstructured messy data range output theyre interested business analyst often progress data scientist busted via giphy myth 3 data science data science one tricky impossible either confirm bust myth one person company using term data science necessarily another person company using term depending organizational capacity individual experience educational background many variable might using name different animal tldr dont assume common understanding across hiring manager recruiter practitioner look instead specific tool technique methodology output said one fall plausible category may actually true circumstance false others plausible via giphy myth 4 data science curriculum welldefined consistent recommend checking one quick google search bootcamps master degree program online course reveal different organization teach different thing commonly accepted framework teaching data science focus engineering others focus machine learning think deep learning foundational prefer use r curriculum wa built employer interview practitioner interview market research company partnership based texas bootcamp new york might follow process end different syllabus keep mind whatever learning path gap learning important thing recognize gap busted via giphy myth 5 want data scientist need learn python r one common dangerous like statistic programming language like python r tool theyre piece larger puzzle knowing python without understanding data science pipeline like knowing build floor without floor plan course valuable technical skill give leg theyre second importance asking right question knowing tool use communicating finding busted via giphy still question reach u always help'"
      ]
     },
     "execution_count": 69,
     "metadata": {},
     "output_type": "execute_result"
    }
   ],
   "source": [
    "remove_stopwords(content,extra_words=['dimitri'])"
   ]
  },
  {
   "cell_type": "markdown",
   "metadata": {},
   "source": [
    "# 6. Use your data from the acquire to produce a dataframe of the news articles. Name the dataframe news_df."
   ]
  },
  {
   "cell_type": "code",
   "execution_count": 43,
   "metadata": {
    "ExecuteTime": {
     "end_time": "2021-05-04T19:23:19.960326Z",
     "start_time": "2021-05-04T19:23:19.365012Z"
    }
   },
   "outputs": [
    {
     "name": "stderr",
     "output_type": "stream",
     "text": [
      "/Users/ken/codeup-data-science/natural-language-processing-exercises/acquire.py:31: GuessedAtParserWarning: No parser was explicitly specified, so I'm using the best available HTML parser for this system (\"lxml\"). This usually isn't a problem, but if you run this code on another system, or in a different virtual environment, it may use a different parser and behave differently.\n",
      "\n",
      "The code that caused this warning is on line 31 of the file /Users/ken/codeup-data-science/natural-language-processing-exercises/acquire.py. To get rid of this warning, pass the additional argument 'features=\"lxml\"' to the BeautifulSoup constructor.\n",
      "\n",
      "  soup = BeautifulSoup(response.text)\n"
     ]
    },
    {
     "data": {
      "text/html": [
       "<div>\n",
       "<style scoped>\n",
       "    .dataframe tbody tr th:only-of-type {\n",
       "        vertical-align: middle;\n",
       "    }\n",
       "\n",
       "    .dataframe tbody tr th {\n",
       "        vertical-align: top;\n",
       "    }\n",
       "\n",
       "    .dataframe thead th {\n",
       "        text-align: right;\n",
       "    }\n",
       "</style>\n",
       "<table border=\"1\" class=\"dataframe\">\n",
       "  <thead>\n",
       "    <tr style=\"text-align: right;\">\n",
       "      <th></th>\n",
       "      <th>title</th>\n",
       "      <th>author</th>\n",
       "      <th>content</th>\n",
       "    </tr>\n",
       "  </thead>\n",
       "  <tbody>\n",
       "    <tr>\n",
       "      <th>0</th>\n",
       "      <td>Mumbai, Thane among 15 Maha districts seeing d...</td>\n",
       "      <td>Sakshita Khosla</td>\n",
       "      <td>Maharashtra Health Minister Rajesh Tope on Tue...</td>\n",
       "    </tr>\n",
       "    <tr>\n",
       "      <th>1</th>\n",
       "      <td>Massive fire breaks out in Noida slum; at leas...</td>\n",
       "      <td>Sakshita Khosla</td>\n",
       "      <td>A massive fire broke out on Tuesday night at a...</td>\n",
       "    </tr>\n",
       "    <tr>\n",
       "      <th>2</th>\n",
       "      <td>WHO updates guidelines to include possibility ...</td>\n",
       "      <td>Daisy Mowke</td>\n",
       "      <td>According to WHO's updated guidelines, there's...</td>\n",
       "    </tr>\n",
       "    <tr>\n",
       "      <th>3</th>\n",
       "      <td>Melinda refuses spousal support from Bill Gate...</td>\n",
       "      <td>Daisy Mowke</td>\n",
       "      <td>Melinda Gates officially filed for divorce fro...</td>\n",
       "    </tr>\n",
       "    <tr>\n",
       "      <th>4</th>\n",
       "      <td>SMS worm that tricks Android users into downlo...</td>\n",
       "      <td>Daisy Mowke</td>\n",
       "      <td>A malware said to be targeting Android users i...</td>\n",
       "    </tr>\n",
       "    <tr>\n",
       "      <th>5</th>\n",
       "      <td>India to take back migrants living illegally i...</td>\n",
       "      <td>Sakshita Khosla</td>\n",
       "      <td>Britain and India on Tuesday signed an accord ...</td>\n",
       "    </tr>\n",
       "    <tr>\n",
       "      <th>6</th>\n",
       "      <td>Rangoli to sue Anand Bhushan after he vows not...</td>\n",
       "      <td>Udit Gupta</td>\n",
       "      <td>After designer Anand Bhushan decided to disass...</td>\n",
       "    </tr>\n",
       "    <tr>\n",
       "      <th>7</th>\n",
       "      <td>YRF requests Maha CM to help them vaccinate 30...</td>\n",
       "      <td>Udit Gupta</td>\n",
       "      <td>Yash Raj Films, in a letter to Federation of W...</td>\n",
       "    </tr>\n",
       "    <tr>\n",
       "      <th>8</th>\n",
       "      <td>DRDO to set up 5 oxygen plants in &amp; around Del...</td>\n",
       "      <td>Christina George</td>\n",
       "      <td>The Defence Ministry on Tuesday said that DRDO...</td>\n",
       "    </tr>\n",
       "    <tr>\n",
       "      <th>9</th>\n",
       "      <td>Tata group to airlift 60 cryogenic tankers, bu...</td>\n",
       "      <td>Krishna Raj</td>\n",
       "      <td>Tata group will airlift 60 cryogenic oxygen ta...</td>\n",
       "    </tr>\n",
       "    <tr>\n",
       "      <th>10</th>\n",
       "      <td>Wealthy nations don't need to vaccinate down t...</td>\n",
       "      <td>Hiral Goyal</td>\n",
       "      <td>Philanthropist Melinda Gates in an interview w...</td>\n",
       "    </tr>\n",
       "    <tr>\n",
       "      <th>11</th>\n",
       "      <td>Oxygen supply enough for now: Army after SOS b...</td>\n",
       "      <td>Christina George</td>\n",
       "      <td>After Army Base Hospital in Delhi sent an SOS ...</td>\n",
       "    </tr>\n",
       "    <tr>\n",
       "      <th>12</th>\n",
       "      <td>SAIL increases oxygen supply to 1,100 metric t...</td>\n",
       "      <td>Krishna Raj</td>\n",
       "      <td>Steel Authority of India Limited (SAIL) said t...</td>\n",
       "    </tr>\n",
       "    <tr>\n",
       "      <th>13</th>\n",
       "      <td>Kerala govt must step in to control charges in...</td>\n",
       "      <td>Christina George</td>\n",
       "      <td>The Kerala High Court on Tuesday directed the ...</td>\n",
       "    </tr>\n",
       "    <tr>\n",
       "      <th>14</th>\n",
       "      <td>Pro-Bitcoin messages projected on the walls of...</td>\n",
       "      <td>Hiral Goyal</td>\n",
       "      <td>An unidentified cryptocurrency fan recently us...</td>\n",
       "    </tr>\n",
       "    <tr>\n",
       "      <th>15</th>\n",
       "      <td>K'taka CM must resign: Siddaramaiah on deaths ...</td>\n",
       "      <td>Christina George</td>\n",
       "      <td>Karnataka Leader of Opposition Siddaramaiah on...</td>\n",
       "    </tr>\n",
       "    <tr>\n",
       "      <th>16</th>\n",
       "      <td>Former US Senator Bill Nelson sworn in as 14th...</td>\n",
       "      <td>Aishwarya Awasthi</td>\n",
       "      <td>Former US Senator Bill Nelson was sworn in as ...</td>\n",
       "    </tr>\n",
       "    <tr>\n",
       "      <th>17</th>\n",
       "      <td>IIT-M, UK researchers develop paper-based sens...</td>\n",
       "      <td>Aishwarya Awasthi</td>\n",
       "      <td>IIT-Madras and UK researchers have developed a...</td>\n",
       "    </tr>\n",
       "    <tr>\n",
       "      <th>18</th>\n",
       "      <td>Probe incident of attack on women in Nandigram...</td>\n",
       "      <td>Christina George</td>\n",
       "      <td>Amid instances of post-poll violence in West B...</td>\n",
       "    </tr>\n",
       "    <tr>\n",
       "      <th>19</th>\n",
       "      <td>Could abandon Myanmar project if found to viol...</td>\n",
       "      <td>Krishna Raj</td>\n",
       "      <td>Adani Ports and Special Economic Zone (APSEZ) ...</td>\n",
       "    </tr>\n",
       "    <tr>\n",
       "      <th>20</th>\n",
       "      <td>Myanmar's military govt bans satellite TV citi...</td>\n",
       "      <td>Shailesh</td>\n",
       "      <td>Myanmar's military government has announced a ...</td>\n",
       "    </tr>\n",
       "    <tr>\n",
       "      <th>21</th>\n",
       "      <td>Iraqi Health Minister resigns over hospital fi...</td>\n",
       "      <td>Shailesh</td>\n",
       "      <td>Iraq's Health Minister Hassan al-Tamimi steppe...</td>\n",
       "    </tr>\n",
       "    <tr>\n",
       "      <th>22</th>\n",
       "      <td>India's 2nd COVID-19 wave could push growth be...</td>\n",
       "      <td>Krishna Raj</td>\n",
       "      <td>S&amp;P Global Ratings' Chief economist for Asia-P...</td>\n",
       "    </tr>\n",
       "    <tr>\n",
       "      <th>23</th>\n",
       "      <td>Bajaj Group pledges ₹200 crore to India to fig...</td>\n",
       "      <td>Krishna Raj</td>\n",
       "      <td>The Bajaj Group on Tuesday pledged to donate ₹...</td>\n",
       "    </tr>\n",
       "  </tbody>\n",
       "</table>\n",
       "</div>"
      ],
      "text/plain": [
       "                                                title             author  \\\n",
       "0   Mumbai, Thane among 15 Maha districts seeing d...    Sakshita Khosla   \n",
       "1   Massive fire breaks out in Noida slum; at leas...    Sakshita Khosla   \n",
       "2   WHO updates guidelines to include possibility ...        Daisy Mowke   \n",
       "3   Melinda refuses spousal support from Bill Gate...        Daisy Mowke   \n",
       "4   SMS worm that tricks Android users into downlo...        Daisy Mowke   \n",
       "5   India to take back migrants living illegally i...    Sakshita Khosla   \n",
       "6   Rangoli to sue Anand Bhushan after he vows not...         Udit Gupta   \n",
       "7   YRF requests Maha CM to help them vaccinate 30...         Udit Gupta   \n",
       "8   DRDO to set up 5 oxygen plants in & around Del...   Christina George   \n",
       "9   Tata group to airlift 60 cryogenic tankers, bu...        Krishna Raj   \n",
       "10  Wealthy nations don't need to vaccinate down t...        Hiral Goyal   \n",
       "11  Oxygen supply enough for now: Army after SOS b...   Christina George   \n",
       "12  SAIL increases oxygen supply to 1,100 metric t...        Krishna Raj   \n",
       "13  Kerala govt must step in to control charges in...   Christina George   \n",
       "14  Pro-Bitcoin messages projected on the walls of...        Hiral Goyal   \n",
       "15  K'taka CM must resign: Siddaramaiah on deaths ...   Christina George   \n",
       "16  Former US Senator Bill Nelson sworn in as 14th...  Aishwarya Awasthi   \n",
       "17  IIT-M, UK researchers develop paper-based sens...  Aishwarya Awasthi   \n",
       "18  Probe incident of attack on women in Nandigram...   Christina George   \n",
       "19  Could abandon Myanmar project if found to viol...        Krishna Raj   \n",
       "20  Myanmar's military govt bans satellite TV citi...           Shailesh   \n",
       "21  Iraqi Health Minister resigns over hospital fi...           Shailesh   \n",
       "22  India's 2nd COVID-19 wave could push growth be...        Krishna Raj   \n",
       "23  Bajaj Group pledges ₹200 crore to India to fig...        Krishna Raj   \n",
       "\n",
       "                                              content  \n",
       "0   Maharashtra Health Minister Rajesh Tope on Tue...  \n",
       "1   A massive fire broke out on Tuesday night at a...  \n",
       "2   According to WHO's updated guidelines, there's...  \n",
       "3   Melinda Gates officially filed for divorce fro...  \n",
       "4   A malware said to be targeting Android users i...  \n",
       "5   Britain and India on Tuesday signed an accord ...  \n",
       "6   After designer Anand Bhushan decided to disass...  \n",
       "7   Yash Raj Films, in a letter to Federation of W...  \n",
       "8   The Defence Ministry on Tuesday said that DRDO...  \n",
       "9   Tata group will airlift 60 cryogenic oxygen ta...  \n",
       "10  Philanthropist Melinda Gates in an interview w...  \n",
       "11  After Army Base Hospital in Delhi sent an SOS ...  \n",
       "12  Steel Authority of India Limited (SAIL) said t...  \n",
       "13  The Kerala High Court on Tuesday directed the ...  \n",
       "14  An unidentified cryptocurrency fan recently us...  \n",
       "15  Karnataka Leader of Opposition Siddaramaiah on...  \n",
       "16  Former US Senator Bill Nelson was sworn in as ...  \n",
       "17  IIT-Madras and UK researchers have developed a...  \n",
       "18  Amid instances of post-poll violence in West B...  \n",
       "19  Adani Ports and Special Economic Zone (APSEZ) ...  \n",
       "20  Myanmar's military government has announced a ...  \n",
       "21  Iraq's Health Minister Hassan al-Tamimi steppe...  \n",
       "22  S&P Global Ratings' Chief economist for Asia-P...  \n",
       "23  The Bajaj Group on Tuesday pledged to donate ₹...  "
      ]
     },
     "execution_count": 43,
     "metadata": {},
     "output_type": "execute_result"
    }
   ],
   "source": [
    "news = get_news_articles('https://inshorts.com/en/read')\n",
    "news_df = pd.DataFrame(news)\n",
    "news_df"
   ]
  },
  {
   "cell_type": "markdown",
   "metadata": {},
   "source": [
    "# 7. Make another dataframe for the Codeup blog posts. Name the dataframe codeup_df."
   ]
  },
  {
   "cell_type": "code",
   "execution_count": 44,
   "metadata": {
    "ExecuteTime": {
     "end_time": "2021-05-04T19:24:13.403829Z",
     "start_time": "2021-05-04T19:24:13.397663Z"
    }
   },
   "outputs": [],
   "source": [
    "blog_article_list = ['https://codeup.com/codeups-data-science-career-accelerator-is-here/',\n",
    "                     'https://codeup.com/data-science-myths/',\n",
    "                     'https://codeup.com/data-science-vs-data-analytics-whats-the-difference/',\n",
    "                     'https://codeup.com/10-tips-to-crush-it-at-the-sa-tech-job-fair/',\n",
    "                     'https://codeup.com/competitor-bootcamps-are-closing-is-the-model-in-danger/']"
   ]
  },
  {
   "cell_type": "code",
   "execution_count": 45,
   "metadata": {
    "ExecuteTime": {
     "end_time": "2021-05-04T19:24:37.289771Z",
     "start_time": "2021-05-04T19:24:35.841224Z"
    }
   },
   "outputs": [
    {
     "name": "stderr",
     "output_type": "stream",
     "text": [
      "/Users/ken/codeup-data-science/natural-language-processing-exercises/acquire.py:15: GuessedAtParserWarning: No parser was explicitly specified, so I'm using the best available HTML parser for this system (\"lxml\"). This usually isn't a problem, but if you run this code on another system, or in a different virtual environment, it may use a different parser and behave differently.\n",
      "\n",
      "The code that caused this warning is on line 15 of the file /Users/ken/codeup-data-science/natural-language-processing-exercises/acquire.py. To get rid of this warning, pass the additional argument 'features=\"lxml\"' to the BeautifulSoup constructor.\n",
      "\n",
      "  soup = BeautifulSoup(response.text)\n"
     ]
    },
    {
     "data": {
      "text/html": [
       "<div>\n",
       "<style scoped>\n",
       "    .dataframe tbody tr th:only-of-type {\n",
       "        vertical-align: middle;\n",
       "    }\n",
       "\n",
       "    .dataframe tbody tr th {\n",
       "        vertical-align: top;\n",
       "    }\n",
       "\n",
       "    .dataframe thead th {\n",
       "        text-align: right;\n",
       "    }\n",
       "</style>\n",
       "<table border=\"1\" class=\"dataframe\">\n",
       "  <thead>\n",
       "    <tr style=\"text-align: right;\">\n",
       "      <th></th>\n",
       "      <th>title</th>\n",
       "      <th>content</th>\n",
       "    </tr>\n",
       "  </thead>\n",
       "  <tbody>\n",
       "    <tr>\n",
       "      <th>0</th>\n",
       "      <td>Codeup’s Data Science Career Accelerator is Here!</td>\n",
       "      <td>The rumors are true! The time has arrived. Cod...</td>\n",
       "    </tr>\n",
       "    <tr>\n",
       "      <th>1</th>\n",
       "      <td>Data Science Myths</td>\n",
       "      <td>By Dimitri Antoniou and Maggie Giust Data Scie...</td>\n",
       "    </tr>\n",
       "    <tr>\n",
       "      <th>2</th>\n",
       "      <td>Data Science VS Data Analytics: What’s The Dif...</td>\n",
       "      <td>By Dimitri Antoniou A week ago, Codeup launche...</td>\n",
       "    </tr>\n",
       "    <tr>\n",
       "      <th>3</th>\n",
       "      <td>10 Tips to Crush It at the SA Tech Job Fair</td>\n",
       "      <td>The third bi-annual San Antonio Tech Job Fair ...</td>\n",
       "    </tr>\n",
       "    <tr>\n",
       "      <th>4</th>\n",
       "      <td>Competitor Bootcamps Are Closing. Is the Model...</td>\n",
       "      <td>In recent news, DevBootcamp and The Iron Yar...</td>\n",
       "    </tr>\n",
       "  </tbody>\n",
       "</table>\n",
       "</div>"
      ],
      "text/plain": [
       "                                               title  \\\n",
       "0  Codeup’s Data Science Career Accelerator is Here!   \n",
       "1                                 Data Science Myths   \n",
       "2  Data Science VS Data Analytics: What’s The Dif...   \n",
       "3        10 Tips to Crush It at the SA Tech Job Fair   \n",
       "4  Competitor Bootcamps Are Closing. Is the Model...   \n",
       "\n",
       "                                             content  \n",
       "0  The rumors are true! The time has arrived. Cod...  \n",
       "1  By Dimitri Antoniou and Maggie Giust Data Scie...  \n",
       "2  By Dimitri Antoniou A week ago, Codeup launche...  \n",
       "3  The third bi-annual San Antonio Tech Job Fair ...  \n",
       "4    In recent news, DevBootcamp and The Iron Yar...  "
      ]
     },
     "execution_count": 45,
     "metadata": {},
     "output_type": "execute_result"
    }
   ],
   "source": [
    "codeup = get_blog_articles(blog_article_list)\n",
    "codeup_df = pd.DataFrame(codeup)\n",
    "codeup_df"
   ]
  },
  {
   "cell_type": "markdown",
   "metadata": {},
   "source": [
    "# 8. For each dataframe, produce the following columns:\n",
    "\n",
    "    title to hold the title\n",
    "    original to hold the original article/post content\n",
    "    clean to hold the normalized and tokenized original with the stopwords removed.\n",
    "    stemmed to hold the stemmed version of the cleaned data.\n",
    "    lemmatized to hold the lemmatized version of the cleaned data."
   ]
  },
  {
   "cell_type": "code",
   "execution_count": 46,
   "metadata": {
    "ExecuteTime": {
     "end_time": "2021-05-04T19:30:34.440469Z",
     "start_time": "2021-05-04T19:30:34.424069Z"
    }
   },
   "outputs": [
    {
     "data": {
      "text/html": [
       "<div>\n",
       "<style scoped>\n",
       "    .dataframe tbody tr th:only-of-type {\n",
       "        vertical-align: middle;\n",
       "    }\n",
       "\n",
       "    .dataframe tbody tr th {\n",
       "        vertical-align: top;\n",
       "    }\n",
       "\n",
       "    .dataframe thead th {\n",
       "        text-align: right;\n",
       "    }\n",
       "</style>\n",
       "<table border=\"1\" class=\"dataframe\">\n",
       "  <thead>\n",
       "    <tr style=\"text-align: right;\">\n",
       "      <th></th>\n",
       "      <th>title</th>\n",
       "      <th>author</th>\n",
       "      <th>content</th>\n",
       "    </tr>\n",
       "  </thead>\n",
       "  <tbody>\n",
       "    <tr>\n",
       "      <th>0</th>\n",
       "      <td>Mumbai, Thane among 15 Maha districts seeing d...</td>\n",
       "      <td>Sakshita Khosla</td>\n",
       "      <td>Maharashtra Health Minister Rajesh Tope on Tue...</td>\n",
       "    </tr>\n",
       "  </tbody>\n",
       "</table>\n",
       "</div>"
      ],
      "text/plain": [
       "                                               title           author  \\\n",
       "0  Mumbai, Thane among 15 Maha districts seeing d...  Sakshita Khosla   \n",
       "\n",
       "                                             content  \n",
       "0  Maharashtra Health Minister Rajesh Tope on Tue...  "
      ]
     },
     "execution_count": 46,
     "metadata": {},
     "output_type": "execute_result"
    }
   ],
   "source": [
    "news_df.head(1)"
   ]
  },
  {
   "cell_type": "code",
   "execution_count": 51,
   "metadata": {
    "ExecuteTime": {
     "end_time": "2021-05-04T19:33:22.576658Z",
     "start_time": "2021-05-04T19:33:22.562430Z"
    }
   },
   "outputs": [
    {
     "data": {
      "text/html": [
       "<div>\n",
       "<style scoped>\n",
       "    .dataframe tbody tr th:only-of-type {\n",
       "        vertical-align: middle;\n",
       "    }\n",
       "\n",
       "    .dataframe tbody tr th {\n",
       "        vertical-align: top;\n",
       "    }\n",
       "\n",
       "    .dataframe thead th {\n",
       "        text-align: right;\n",
       "    }\n",
       "</style>\n",
       "<table border=\"1\" class=\"dataframe\">\n",
       "  <thead>\n",
       "    <tr style=\"text-align: right;\">\n",
       "      <th></th>\n",
       "      <th>title</th>\n",
       "      <th>author</th>\n",
       "      <th>original</th>\n",
       "    </tr>\n",
       "  </thead>\n",
       "  <tbody>\n",
       "    <tr>\n",
       "      <th>0</th>\n",
       "      <td>Mumbai, Thane among 15 Maha districts seeing d...</td>\n",
       "      <td>Sakshita Khosla</td>\n",
       "      <td>Maharashtra Health Minister Rajesh Tope on Tue...</td>\n",
       "    </tr>\n",
       "  </tbody>\n",
       "</table>\n",
       "</div>"
      ],
      "text/plain": [
       "                                               title           author  \\\n",
       "0  Mumbai, Thane among 15 Maha districts seeing d...  Sakshita Khosla   \n",
       "\n",
       "                                            original  \n",
       "0  Maharashtra Health Minister Rajesh Tope on Tue...  "
      ]
     },
     "execution_count": 51,
     "metadata": {},
     "output_type": "execute_result"
    }
   ],
   "source": [
    "news_df = news_df.rename({'content':'original'},axis=1)\n",
    "news_df.head(1)"
   ]
  },
  {
   "cell_type": "code",
   "execution_count": 54,
   "metadata": {
    "ExecuteTime": {
     "end_time": "2021-05-04T19:37:57.633295Z",
     "start_time": "2021-05-04T19:37:57.613119Z"
    }
   },
   "outputs": [
    {
     "data": {
      "text/html": [
       "<div>\n",
       "<style scoped>\n",
       "    .dataframe tbody tr th:only-of-type {\n",
       "        vertical-align: middle;\n",
       "    }\n",
       "\n",
       "    .dataframe tbody tr th {\n",
       "        vertical-align: top;\n",
       "    }\n",
       "\n",
       "    .dataframe thead th {\n",
       "        text-align: right;\n",
       "    }\n",
       "</style>\n",
       "<table border=\"1\" class=\"dataframe\">\n",
       "  <thead>\n",
       "    <tr style=\"text-align: right;\">\n",
       "      <th></th>\n",
       "      <th>title</th>\n",
       "      <th>author</th>\n",
       "      <th>original</th>\n",
       "      <th>clean</th>\n",
       "    </tr>\n",
       "  </thead>\n",
       "  <tbody>\n",
       "    <tr>\n",
       "      <th>0</th>\n",
       "      <td>Mumbai, Thane among 15 Maha districts seeing d...</td>\n",
       "      <td>Sakshita Khosla</td>\n",
       "      <td>Maharashtra Health Minister Rajesh Tope on Tue...</td>\n",
       "      <td>maharashtra health minister rajesh tope on tue...</td>\n",
       "    </tr>\n",
       "  </tbody>\n",
       "</table>\n",
       "</div>"
      ],
      "text/plain": [
       "                                               title           author  \\\n",
       "0  Mumbai, Thane among 15 Maha districts seeing d...  Sakshita Khosla   \n",
       "\n",
       "                                            original  \\\n",
       "0  Maharashtra Health Minister Rajesh Tope on Tue...   \n",
       "\n",
       "                                               clean  \n",
       "0  maharashtra health minister rajesh tope on tue...  "
      ]
     },
     "execution_count": 54,
     "metadata": {},
     "output_type": "execute_result"
    }
   ],
   "source": [
    "news_df['clean'] = news_df.original.apply(lambda x: basic_clean(x))\n",
    "news_df.head(1)"
   ]
  },
  {
   "cell_type": "code",
   "execution_count": 55,
   "metadata": {
    "ExecuteTime": {
     "end_time": "2021-05-04T19:39:43.489770Z",
     "start_time": "2021-05-04T19:39:43.423986Z"
    }
   },
   "outputs": [
    {
     "data": {
      "text/html": [
       "<div>\n",
       "<style scoped>\n",
       "    .dataframe tbody tr th:only-of-type {\n",
       "        vertical-align: middle;\n",
       "    }\n",
       "\n",
       "    .dataframe tbody tr th {\n",
       "        vertical-align: top;\n",
       "    }\n",
       "\n",
       "    .dataframe thead th {\n",
       "        text-align: right;\n",
       "    }\n",
       "</style>\n",
       "<table border=\"1\" class=\"dataframe\">\n",
       "  <thead>\n",
       "    <tr style=\"text-align: right;\">\n",
       "      <th></th>\n",
       "      <th>title</th>\n",
       "      <th>author</th>\n",
       "      <th>original</th>\n",
       "      <th>clean</th>\n",
       "      <th>stemmed</th>\n",
       "    </tr>\n",
       "  </thead>\n",
       "  <tbody>\n",
       "    <tr>\n",
       "      <th>0</th>\n",
       "      <td>Mumbai, Thane among 15 Maha districts seeing d...</td>\n",
       "      <td>Sakshita Khosla</td>\n",
       "      <td>Maharashtra Health Minister Rajesh Tope on Tue...</td>\n",
       "      <td>maharashtra health minister rajesh tope on tue...</td>\n",
       "      <td>maharashtra health minist rajesh tope on tuesd...</td>\n",
       "    </tr>\n",
       "  </tbody>\n",
       "</table>\n",
       "</div>"
      ],
      "text/plain": [
       "                                               title           author  \\\n",
       "0  Mumbai, Thane among 15 Maha districts seeing d...  Sakshita Khosla   \n",
       "\n",
       "                                            original  \\\n",
       "0  Maharashtra Health Minister Rajesh Tope on Tue...   \n",
       "\n",
       "                                               clean  \\\n",
       "0  maharashtra health minister rajesh tope on tue...   \n",
       "\n",
       "                                             stemmed  \n",
       "0  maharashtra health minist rajesh tope on tuesd...  "
      ]
     },
     "execution_count": 55,
     "metadata": {},
     "output_type": "execute_result"
    }
   ],
   "source": [
    "news_df['stemmed'] = news_df.clean.apply(lambda x: stem(x))\n",
    "news_df.head(1)"
   ]
  },
  {
   "cell_type": "code",
   "execution_count": 59,
   "metadata": {
    "ExecuteTime": {
     "end_time": "2021-05-04T19:41:31.663960Z",
     "start_time": "2021-05-04T19:41:31.626830Z"
    }
   },
   "outputs": [
    {
     "data": {
      "text/html": [
       "<div>\n",
       "<style scoped>\n",
       "    .dataframe tbody tr th:only-of-type {\n",
       "        vertical-align: middle;\n",
       "    }\n",
       "\n",
       "    .dataframe tbody tr th {\n",
       "        vertical-align: top;\n",
       "    }\n",
       "\n",
       "    .dataframe thead th {\n",
       "        text-align: right;\n",
       "    }\n",
       "</style>\n",
       "<table border=\"1\" class=\"dataframe\">\n",
       "  <thead>\n",
       "    <tr style=\"text-align: right;\">\n",
       "      <th></th>\n",
       "      <th>title</th>\n",
       "      <th>author</th>\n",
       "      <th>original</th>\n",
       "      <th>clean</th>\n",
       "      <th>stemmed</th>\n",
       "      <th>lemmatized</th>\n",
       "    </tr>\n",
       "  </thead>\n",
       "  <tbody>\n",
       "    <tr>\n",
       "      <th>0</th>\n",
       "      <td>Mumbai, Thane among 15 Maha districts seeing d...</td>\n",
       "      <td>Sakshita Khosla</td>\n",
       "      <td>Maharashtra Health Minister Rajesh Tope on Tue...</td>\n",
       "      <td>maharashtra health minister rajesh tope on tue...</td>\n",
       "      <td>maharashtra health minist rajesh tope on tuesd...</td>\n",
       "      <td>maharashtra health minister rajesh tope on tue...</td>\n",
       "    </tr>\n",
       "    <tr>\n",
       "      <th>1</th>\n",
       "      <td>Massive fire breaks out in Noida slum; at leas...</td>\n",
       "      <td>Sakshita Khosla</td>\n",
       "      <td>A massive fire broke out on Tuesday night at a...</td>\n",
       "      <td>a massive fire broke out on tuesday night at a...</td>\n",
       "      <td>a massiv fire broke out on tuesday night at a ...</td>\n",
       "      <td>a massive fire broke out on tuesday night at a...</td>\n",
       "    </tr>\n",
       "    <tr>\n",
       "      <th>2</th>\n",
       "      <td>WHO updates guidelines to include possibility ...</td>\n",
       "      <td>Daisy Mowke</td>\n",
       "      <td>According to WHO's updated guidelines, there's...</td>\n",
       "      <td>according to who's updated guidelines there's ...</td>\n",
       "      <td>accord to who' updat guidelin there' possibl o...</td>\n",
       "      <td>according to who's updated guideline there's p...</td>\n",
       "    </tr>\n",
       "    <tr>\n",
       "      <th>3</th>\n",
       "      <td>Melinda refuses spousal support from Bill Gate...</td>\n",
       "      <td>Daisy Mowke</td>\n",
       "      <td>Melinda Gates officially filed for divorce fro...</td>\n",
       "      <td>melinda gates officially filed for divorce fro...</td>\n",
       "      <td>melinda gate offici file for divorc from bill ...</td>\n",
       "      <td>melinda gate officially filed for divorce from...</td>\n",
       "    </tr>\n",
       "    <tr>\n",
       "      <th>4</th>\n",
       "      <td>SMS worm that tricks Android users into downlo...</td>\n",
       "      <td>Daisy Mowke</td>\n",
       "      <td>A malware said to be targeting Android users i...</td>\n",
       "      <td>a malware said to be targeting android users i...</td>\n",
       "      <td>a malwar said to be target android user in ind...</td>\n",
       "      <td>a malware said to be targeting android user in...</td>\n",
       "    </tr>\n",
       "  </tbody>\n",
       "</table>\n",
       "</div>"
      ],
      "text/plain": [
       "                                               title           author  \\\n",
       "0  Mumbai, Thane among 15 Maha districts seeing d...  Sakshita Khosla   \n",
       "1  Massive fire breaks out in Noida slum; at leas...  Sakshita Khosla   \n",
       "2  WHO updates guidelines to include possibility ...      Daisy Mowke   \n",
       "3  Melinda refuses spousal support from Bill Gate...      Daisy Mowke   \n",
       "4  SMS worm that tricks Android users into downlo...      Daisy Mowke   \n",
       "\n",
       "                                            original  \\\n",
       "0  Maharashtra Health Minister Rajesh Tope on Tue...   \n",
       "1  A massive fire broke out on Tuesday night at a...   \n",
       "2  According to WHO's updated guidelines, there's...   \n",
       "3  Melinda Gates officially filed for divorce fro...   \n",
       "4  A malware said to be targeting Android users i...   \n",
       "\n",
       "                                               clean  \\\n",
       "0  maharashtra health minister rajesh tope on tue...   \n",
       "1  a massive fire broke out on tuesday night at a...   \n",
       "2  according to who's updated guidelines there's ...   \n",
       "3  melinda gates officially filed for divorce fro...   \n",
       "4  a malware said to be targeting android users i...   \n",
       "\n",
       "                                             stemmed  \\\n",
       "0  maharashtra health minist rajesh tope on tuesd...   \n",
       "1  a massiv fire broke out on tuesday night at a ...   \n",
       "2  accord to who' updat guidelin there' possibl o...   \n",
       "3  melinda gate offici file for divorc from bill ...   \n",
       "4  a malwar said to be target android user in ind...   \n",
       "\n",
       "                                          lemmatized  \n",
       "0  maharashtra health minister rajesh tope on tue...  \n",
       "1  a massive fire broke out on tuesday night at a...  \n",
       "2  according to who's updated guideline there's p...  \n",
       "3  melinda gate officially filed for divorce from...  \n",
       "4  a malware said to be targeting android user in...  "
      ]
     },
     "execution_count": 59,
     "metadata": {},
     "output_type": "execute_result"
    }
   ],
   "source": [
    "news_df['lemmatized'] = news_df.clean.apply(lambda x: lemmatize(x))\n",
    "news_df.head()"
   ]
  },
  {
   "cell_type": "code",
   "execution_count": 66,
   "metadata": {
    "ExecuteTime": {
     "end_time": "2021-05-04T19:53:02.659562Z",
     "start_time": "2021-05-04T19:53:02.570340Z"
    }
   },
   "outputs": [
    {
     "data": {
      "text/html": [
       "<div>\n",
       "<style scoped>\n",
       "    .dataframe tbody tr th:only-of-type {\n",
       "        vertical-align: middle;\n",
       "    }\n",
       "\n",
       "    .dataframe tbody tr th {\n",
       "        vertical-align: top;\n",
       "    }\n",
       "\n",
       "    .dataframe thead th {\n",
       "        text-align: right;\n",
       "    }\n",
       "</style>\n",
       "<table border=\"1\" class=\"dataframe\">\n",
       "  <thead>\n",
       "    <tr style=\"text-align: right;\">\n",
       "      <th></th>\n",
       "      <th>title</th>\n",
       "      <th>original</th>\n",
       "      <th>clean</th>\n",
       "      <th>stemmed</th>\n",
       "      <th>lemmatized</th>\n",
       "    </tr>\n",
       "  </thead>\n",
       "  <tbody>\n",
       "    <tr>\n",
       "      <th>0</th>\n",
       "      <td>Codeup’s Data Science Career Accelerator is Here!</td>\n",
       "      <td>The rumors are true! The time has arrived. Cod...</td>\n",
       "      <td>the rumors are true the time has arrived codeu...</td>\n",
       "      <td>the rumor are true the time ha arriv codeup ha...</td>\n",
       "      <td>the rumor are true the time ha arrived codeup ...</td>\n",
       "    </tr>\n",
       "    <tr>\n",
       "      <th>1</th>\n",
       "      <td>Data Science Myths</td>\n",
       "      <td>By Dimitri Antoniou and Maggie Giust Data Scie...</td>\n",
       "      <td>by dimitri antoniou and maggie giust data scie...</td>\n",
       "      <td>by dimitri antoni and maggi giust data scienc ...</td>\n",
       "      <td>by dimitri antoniou and maggie giust data scie...</td>\n",
       "    </tr>\n",
       "    <tr>\n",
       "      <th>2</th>\n",
       "      <td>Data Science VS Data Analytics: What’s The Dif...</td>\n",
       "      <td>By Dimitri Antoniou A week ago, Codeup launche...</td>\n",
       "      <td>by dimitri antoniou a week ago codeup launched...</td>\n",
       "      <td>by dimitri antoni a week ago codeup launch our...</td>\n",
       "      <td>by dimitri antoniou a week ago codeup launched...</td>\n",
       "    </tr>\n",
       "    <tr>\n",
       "      <th>3</th>\n",
       "      <td>10 Tips to Crush It at the SA Tech Job Fair</td>\n",
       "      <td>The third bi-annual San Antonio Tech Job Fair ...</td>\n",
       "      <td>the third biannual san antonio tech job fair i...</td>\n",
       "      <td>the third biannual san antonio tech job fair i...</td>\n",
       "      <td>the third biannual san antonio tech job fair i...</td>\n",
       "    </tr>\n",
       "    <tr>\n",
       "      <th>4</th>\n",
       "      <td>Competitor Bootcamps Are Closing. Is the Model...</td>\n",
       "      <td>In recent news, DevBootcamp and The Iron Yar...</td>\n",
       "      <td>in recent news devbootcamp and the iron yard...</td>\n",
       "      <td>in recent news devbootcamp and the iron yard a...</td>\n",
       "      <td>in recent news devbootcamp and the iron yard a...</td>\n",
       "    </tr>\n",
       "  </tbody>\n",
       "</table>\n",
       "</div>"
      ],
      "text/plain": [
       "                                               title  \\\n",
       "0  Codeup’s Data Science Career Accelerator is Here!   \n",
       "1                                 Data Science Myths   \n",
       "2  Data Science VS Data Analytics: What’s The Dif...   \n",
       "3        10 Tips to Crush It at the SA Tech Job Fair   \n",
       "4  Competitor Bootcamps Are Closing. Is the Model...   \n",
       "\n",
       "                                            original  \\\n",
       "0  The rumors are true! The time has arrived. Cod...   \n",
       "1  By Dimitri Antoniou and Maggie Giust Data Scie...   \n",
       "2  By Dimitri Antoniou A week ago, Codeup launche...   \n",
       "3  The third bi-annual San Antonio Tech Job Fair ...   \n",
       "4    In recent news, DevBootcamp and The Iron Yar...   \n",
       "\n",
       "                                               clean  \\\n",
       "0  the rumors are true the time has arrived codeu...   \n",
       "1  by dimitri antoniou and maggie giust data scie...   \n",
       "2  by dimitri antoniou a week ago codeup launched...   \n",
       "3  the third biannual san antonio tech job fair i...   \n",
       "4    in recent news devbootcamp and the iron yard...   \n",
       "\n",
       "                                             stemmed  \\\n",
       "0  the rumor are true the time ha arriv codeup ha...   \n",
       "1  by dimitri antoni and maggi giust data scienc ...   \n",
       "2  by dimitri antoni a week ago codeup launch our...   \n",
       "3  the third biannual san antonio tech job fair i...   \n",
       "4  in recent news devbootcamp and the iron yard a...   \n",
       "\n",
       "                                          lemmatized  \n",
       "0  the rumor are true the time ha arrived codeup ...  \n",
       "1  by dimitri antoniou and maggie giust data scie...  \n",
       "2  by dimitri antoniou a week ago codeup launched...  \n",
       "3  the third biannual san antonio tech job fair i...  \n",
       "4  in recent news devbootcamp and the iron yard a...  "
      ]
     },
     "execution_count": 66,
     "metadata": {},
     "output_type": "execute_result"
    }
   ],
   "source": [
    "codeup_df = codeup_df.rename({'content':'original'},axis=1)\n",
    "codeup_df['clean'] = codeup_df.original.apply(lambda x: basic_clean(x))\n",
    "codeup_df['stemmed'] = codeup_df.clean.apply(lambda x: stem(x))\n",
    "codeup_df['lemmatized'] = codeup_df.clean.apply(lambda x: lemmatize(x))\n",
    "codeup_df.head()"
   ]
  },
  {
   "cell_type": "code",
   "execution_count": 67,
   "metadata": {
    "ExecuteTime": {
     "end_time": "2021-05-04T19:55:08.812234Z",
     "start_time": "2021-05-04T19:55:08.789095Z"
    }
   },
   "outputs": [
    {
     "data": {
      "text/plain": [
       "0    rumor true time ha arrived codeup ha officiall...\n",
       "1    dimitri antoniou maggie giust data science big...\n",
       "2    dimitri antoniou week ago codeup launched imme...\n",
       "3    third biannual san antonio tech job fair aroun...\n",
       "4    recent news devbootcamp iron yard announced cl...\n",
       "Name: lemmatized, dtype: object"
      ]
     },
     "execution_count": 67,
     "metadata": {},
     "output_type": "execute_result"
    }
   ],
   "source": [
    "codeup_df.lemmatized.apply(lambda x: remove_stopwords(x))"
   ]
  },
  {
   "cell_type": "code",
   "execution_count": 68,
   "metadata": {
    "ExecuteTime": {
     "end_time": "2021-05-04T19:55:45.099945Z",
     "start_time": "2021-05-04T19:55:45.069557Z"
    }
   },
   "outputs": [
    {
     "data": {
      "text/plain": [
       "0     maharashtra health minister rajesh tope tuesda...\n",
       "1     massive fire broke tuesday night slum barola a...\n",
       "2     according who's updated guideline there's poss...\n",
       "3     melinda gate officially filed divorce bill gat...\n",
       "4     malware said targeting android user india ha r...\n",
       "5     britain india tuesday signed accord migration ...\n",
       "6     designer anand bhushan decided disassociate ka...\n",
       "7     yash raj film letter federation western india ...\n",
       "8     defence ministry tuesday said drdo set five ox...\n",
       "9     tata group airlift 60 cryogenic oxygen tanker ...\n",
       "10    philanthropist melinda gate interview financia...\n",
       "11    army base hospital delhi sent defence ministry...\n",
       "12    steel authority india limited sail said ha inc...\n",
       "13    kerala high court tuesday directed state gover...\n",
       "14    unidentified cryptocurrency fan recently used ...\n",
       "15    karnataka leader opposition siddaramaiah tuesd...\n",
       "16    former u senator bill nelson wa sworn 14th nas...\n",
       "17    iitmadras uk researcher developed paperbased s...\n",
       "18    amid instance postpoll violence west bengal na...\n",
       "19    adani port special economic zone apsez said co...\n",
       "20    myanmar's military government ha announced ban...\n",
       "21    iraq's health minister hassan altamimi stepped...\n",
       "22    sp global ratings' chief economist asiapacific...\n",
       "23    bajaj group tuesday pledged donate 200 crore h...\n",
       "Name: lemmatized, dtype: object"
      ]
     },
     "execution_count": 68,
     "metadata": {},
     "output_type": "execute_result"
    }
   ],
   "source": [
    "news_df.lemmatized.apply(lambda x: remove_stopwords(x))"
   ]
  },
  {
   "cell_type": "markdown",
   "metadata": {},
   "source": [
    "# 9. Ask yourself:\n",
    "\n",
    "- If your corpus is 493KB, would you prefer to use stemmed or lemmatized text?\n",
    "- If your corpus is 25MB, would you prefer to use stemmed or lemmatized text?\n",
    "- If your corpus is 200TB of text and you're charged by the megabyte for your hosted computational resources, would you prefer to use   stemmed or lemmatized text?"
   ]
  },
  {
   "cell_type": "code",
   "execution_count": null,
   "metadata": {},
   "outputs": [],
   "source": [
    "# 493k lemmatize, 25M lemmatize, 200TB probably stem"
   ]
  }
 ],
 "metadata": {
  "kernelspec": {
   "display_name": "Python 3",
   "language": "python",
   "name": "python3"
  },
  "language_info": {
   "codemirror_mode": {
    "name": "ipython",
    "version": 3
   },
   "file_extension": ".py",
   "mimetype": "text/x-python",
   "name": "python",
   "nbconvert_exporter": "python",
   "pygments_lexer": "ipython3",
   "version": "3.8.5"
  }
 },
 "nbformat": 4,
 "nbformat_minor": 4
}
